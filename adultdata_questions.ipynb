{
 "cells": [
  {
   "cell_type": "code",
   "execution_count": 1,
   "id": "f101d9da",
   "metadata": {},
   "outputs": [],
   "source": [
    "import pandas as pd"
   ]
  },
  {
   "cell_type": "code",
   "execution_count": 2,
   "id": "de038bb6",
   "metadata": {},
   "outputs": [],
   "source": [
    "df = pd.read_csv('adult.data.csv')"
   ]
  },
  {
   "cell_type": "markdown",
   "id": "ffd25f02",
   "metadata": {},
   "source": [
    "## Question 1\n",
    "How many men and women (sex feature) are represented in this dataset?"
   ]
  },
  {
   "cell_type": "markdown",
   "id": "678b99bc",
   "metadata": {},
   "source": [
    "## Question 2\n",
    "What is the average age (age features) of women?"
   ]
  },
  {
   "cell_type": "markdown",
   "id": "41315d69",
   "metadata": {},
   "source": [
    "## Question 3\n",
    "What is percentage of German citizen (native-country feature)?"
   ]
  },
  {
   "cell_type": "markdown",
   "id": "d78ddad1",
   "metadata": {},
   "source": [
    "## Question 4 - 5\n",
    "What are the mean and standard deviation of age for those who earn more than 50k per years (salary feature) and those who earn less than 50k per year?"
   ]
  },
  {
   "cell_type": "markdown",
   "id": "15de8923",
   "metadata": {},
   "source": [
    "## Question 6\n",
    "Is it true that people who earn more than 50k have at least high school education?\n",
    "(education - Bachelor, Prof-school, Assoc-acdm, Assoc-voc, Masters or Doctorate feature)"
   ]
  },
  {
   "cell_type": "markdown",
   "id": "c4e2834b",
   "metadata": {},
   "source": [
    "## Question 7\n",
    "Display age statistics for each race (race feature) and each gender (sex feature). Use groupby and describe(). Find the maximum age of men of Amer-Indian-Eskimo race"
   ]
  },
  {
   "cell_type": "markdown",
   "id": "3c8e8004",
   "metadata": {},
   "source": [
    "## Question 8\n",
    "\n",
    "Among whom is the proportion of those earn a lot (>50k) greater: married or single men (marital-status feature)?\n",
    "Consider as married those who have marital-status starting with Married (Married-civ-spouse, Married-spouse-absent or Married-AF-Spouse), the rest are considered bachelors."
   ]
  },
  {
   "cell_type": "markdown",
   "id": "7e18196e",
   "metadata": {},
   "source": [
    "## Question 9\n",
    "What us the maximum number of hours a person works per week (hours-per-week feature)? How many people work such a number of hours, and what is the percentage of those who earn a lot (>50k) among them?"
   ]
  },
  {
   "cell_type": "markdown",
   "id": "82fe7af7",
   "metadata": {},
   "source": [
    "## Question 10\n",
    "Calculate the average time of work (hours-per-week) for those who earn a little and a lot salary for each country (native-country). What will these be for Japan?"
   ]
  },
  {
   "cell_type": "code",
   "execution_count": null,
   "id": "669b89f0",
   "metadata": {},
   "outputs": [],
   "source": []
  }
 ],
 "metadata": {
  "kernelspec": {
   "display_name": "Python 3 (ipykernel)",
   "language": "python",
   "name": "python3"
  },
  "language_info": {
   "codemirror_mode": {
    "name": "ipython",
    "version": 3
   },
   "file_extension": ".py",
   "mimetype": "text/x-python",
   "name": "python",
   "nbconvert_exporter": "python",
   "pygments_lexer": "ipython3",
   "version": "3.10.9"
  }
 },
 "nbformat": 4,
 "nbformat_minor": 5
}
